{
 "cells": [
  {
   "cell_type": "code",
   "execution_count": null,
   "metadata": {},
   "outputs": [],
   "source": [
    "%%capture\n",
    "%pip install nltk\n",
    "%pip install scipy\n",
    "%pip install wordcloud\n",
    "%pip install \n"
   ]
  },
  {
   "cell_type": "code",
   "execution_count": 2,
   "metadata": {},
   "outputs": [],
   "source": [
    "%%capture\n",
    "import numpy as np\n",
    "import pandas as pd\n",
    "import matplotlib.pyplot as plt\n",
    "import nltk\n",
    "import string\n",
    "import warnings\n",
    "from scipy.stats import pearsonr \n",
    "from nltk.corpus import stopwords\n",
    "from wordcloud import WordCloud\n",
    "\n",
    "from sklearn.feature_extraction.text import TfidfVectorizer\n",
    "from sklearn.metrics.pairwise import cosine_similarity\n",
    "\n",
    "nltk.download('stopwords')\n",
    "warnings.filterwarnings('ignore')"
   ]
  },
  {
   "cell_type": "code",
   "execution_count": 3,
   "metadata": {},
   "outputs": [
    {
     "name": "stdout",
     "output_type": "stream",
     "text": [
      " Volume in drive D is DATA\n",
      " Volume Serial Number is FC9C-ABB3\n",
      "\n",
      " Directory of d:\\Akshat\\projects_24'\\EchoSense\n",
      "\n",
      "06-03-2025  04:26 PM    <DIR>          .\n",
      "06-03-2025  04:05 PM    <DIR>          ..\n",
      "06-03-2025  04:03 PM    <DIR>          .vscode\n",
      "06-03-2025  04:00 PM    <DIR>          __MACOSX\n",
      "07-03-2025  03:25 PM            37,238 EchoSpace.ipynb\n",
      "06-03-2025  04:00 PM         1,364,266 Ted_Talks_Recommendation_System_with_Machine_Learning.ipynb\n",
      "06-03-2025  03:59 PM           975,514 Ted_Talks_Recommendation_System_with_Machine_Learning-ipynb (1).zip\n",
      "06-03-2025  04:26 PM         2,411,249 tedx_dataset.csv\n",
      "               4 File(s)      4,788,267 bytes\n",
      "               4 Dir(s)  429,489,713,152 bytes free\n"
     ]
    }
   ],
   "source": [
    "ls"
   ]
  },
  {
   "cell_type": "code",
   "execution_count": 4,
   "metadata": {},
   "outputs": [
    {
     "name": "stdout",
     "output_type": "stream",
     "text": [
      "                                idx       main_speaker  \\\n",
      "0  8d2005ec35280deb6a438dc87b225f89     Alexandra Auer   \n",
      "1  b3072cd11f40eb57fd259555264476c6  Elizabeth Gilbert   \n",
      "2  4adc9fee977fa04c357ed4c9b52aa3cc       Butterscotch   \n",
      "3  59c641a72b495d522a7932145d6c02b3         Ethan Lisi   \n",
      "4  d227f2faf6ec185e54436d86463f499b      Daniel Finkel   \n",
      "\n",
      "                                               title  \\\n",
      "0                    The intangible effects of walls   \n",
      "1  It's OK to feel overwhelmed. Here's what to do...   \n",
      "2                                  \"Accept Who I Am\"   \n",
      "3               What it's really like to have autism   \n",
      "4              Can you solve the sea monster riddle?   \n",
      "\n",
      "                                             details           posted  \\\n",
      "0  More barriers exist now than at the end of Wor...  Posted Apr 2020   \n",
      "1  If you're feeling anxious or fearful during th...  Posted Apr 2020   \n",
      "2  Firing off her formidable beatboxing skills, m...  Posted Apr 2020   \n",
      "3  \"Autism is not a disease; it's just another wa...  Posted Apr 2020   \n",
      "4  According to legend, once every thousand years...  Posted Apr 2020   \n",
      "\n",
      "                                                 url  num_views  \n",
      "0  https://www.ted.com/talks/alexandra_auer_the_i...        NaN  \n",
      "1  https://www.ted.com/talks/elizabeth_gilbert_it...        NaN  \n",
      "2  https://www.ted.com/talks/butterscotch_accept_...        0.0  \n",
      "3  https://www.ted.com/talks/ethan_lisi_what_it_s...        NaN  \n",
      "4  https://www.ted.com/talks/daniel_finkel_can_yo...        0.0  \n"
     ]
    },
    {
     "data": {
      "text/plain": [
       "(4467, 7)"
      ]
     },
     "execution_count": 4,
     "metadata": {},
     "output_type": "execute_result"
    }
   ],
   "source": [
    "df = pd.read_csv('tedx_dataset.csv')\n",
    "print(df.head())\n",
    "df.shape\n"
   ]
  },
  {
   "cell_type": "code",
   "execution_count": 5,
   "metadata": {},
   "outputs": [
    {
     "name": "stdout",
     "output_type": "stream",
     "text": [
      "Index(['idx', 'main_speaker', 'title', 'details', 'posted', 'url',\n",
      "       'num_views'],\n",
      "      dtype='object')\n"
     ]
    },
    {
     "data": {
      "text/plain": [
       "idx                0\n",
       "main_speaker       1\n",
       "title              0\n",
       "details            0\n",
       "posted             0\n",
       "url                0\n",
       "num_views       4258\n",
       "dtype: int64"
      ]
     },
     "execution_count": 5,
     "metadata": {},
     "output_type": "execute_result"
    }
   ],
   "source": [
    "print(df.columns)\n",
    "df.isnull().sum()"
   ]
  },
  {
   "cell_type": "code",
   "execution_count": 6,
   "metadata": {},
   "outputs": [],
   "source": [
    "#drop num_views as mosst data missing\n",
    "df = df.drop('num_views', axis=1)\n"
   ]
  },
  {
   "cell_type": "code",
   "execution_count": 7,
   "metadata": {},
   "outputs": [],
   "source": [
    "splitted = df['posted'].str.split(' ', expand=True)\n",
    "\n",
    "#create col for month and year for the talks\n",
    "df['year'] = splitted[2].astype('int')\n",
    "df['month'] = splitted[1]\n"
   ]
  },
  {
   "cell_type": "code",
   "execution_count": 8,
   "metadata": {},
   "outputs": [
    {
     "data": {
      "image/png": "[encoded data removed]",
      "text/plain": [
       "<Figure size 640x480 with 1 Axes>"
      ]
     },
     "metadata": {},
     "output_type": "display_data"
    }
   ],
   "source": [
    "df['year'].hist(bins=10, edgecolor='black')\n",
    "plt.xlabel('Year')\n",
    "plt.ylabel('Frequency')\n",
    "plt.show()\n",
    "\n",
    "\n"
   ]
  },
  {
   "cell_type": "code",
   "execution_count": 9,
   "metadata": {},
   "outputs": [
    {
     "name": "stdout",
     "output_type": "stream",
     "text": [
      "Index(['idx', 'main_speaker', 'title', 'details', 'posted', 'url', 'year',\n",
      "       'month'],\n",
      "      dtype='object')\n"
     ]
    }
   ],
   "source": [
    "print(df.columns)\n"
   ]
  },
  {
   "cell_type": "code",
   "execution_count": 10,
   "metadata": {},
   "outputs": [
    {
     "data": {
      "text/html": [
       "<div>\n",
       "<style scoped>\n",
       "    .dataframe tbody tr th:only-of-type {\n",
       "        vertical-align: middle;\n",
       "    }\n",
       "\n",
       "    .dataframe tbody tr th {\n",
       "        vertical-align: top;\n",
       "    }\n",
       "\n",
       "    .dataframe thead th {\n",
       "        text-align: right;\n",
       "    }\n",
       "</style>\n",
       "<table border=\"1\" class=\"dataframe\">\n",
       "  <thead>\n",
       "    <tr style=\"text-align: right;\">\n",
       "      <th></th>\n",
       "      <th>main_speaker</th>\n",
       "      <th>details</th>\n",
       "    </tr>\n",
       "  </thead>\n",
       "  <tbody>\n",
       "    <tr>\n",
       "      <th>0</th>\n",
       "      <td>Alexandra Auer</td>\n",
       "      <td>The intangible effects of walls More barriers ...</td>\n",
       "    </tr>\n",
       "    <tr>\n",
       "      <th>1</th>\n",
       "      <td>Elizabeth Gilbert</td>\n",
       "      <td>It's OK to feel overwhelmed. Here's what to do...</td>\n",
       "    </tr>\n",
       "    <tr>\n",
       "      <th>2</th>\n",
       "      <td>Butterscotch</td>\n",
       "      <td>\"Accept Who I Am\" Firing off her formidable be...</td>\n",
       "    </tr>\n",
       "    <tr>\n",
       "      <th>3</th>\n",
       "      <td>Ethan Lisi</td>\n",
       "      <td>What it's really like to have autism \"Autism i...</td>\n",
       "    </tr>\n",
       "    <tr>\n",
       "      <th>4</th>\n",
       "      <td>Daniel Finkel</td>\n",
       "      <td>Can you solve the sea monster riddle? Accordin...</td>\n",
       "    </tr>\n",
       "  </tbody>\n",
       "</table>\n",
       "</div>"
      ],
      "text/plain": [
       "        main_speaker                                            details\n",
       "0     Alexandra Auer  The intangible effects of walls More barriers ...\n",
       "1  Elizabeth Gilbert  It's OK to feel overwhelmed. Here's what to do...\n",
       "2       Butterscotch  \"Accept Who I Am\" Firing off her formidable be...\n",
       "3         Ethan Lisi  What it's really like to have autism \"Autism i...\n",
       "4      Daniel Finkel  Can you solve the sea monster riddle? Accordin..."
      ]
     },
     "execution_count": 10,
     "metadata": {},
     "output_type": "execute_result"
    }
   ],
   "source": [
    "# Let's combine the title and the details of the talk.\n",
    "df['details'] = df['title'] + ' ' + df['details']\n",
    "\n",
    "# Removing the unnecessary information\n",
    "df = df[['main_speaker', 'details']]\n",
    "df.dropna(inplace = True)\n",
    "df.head()\n"
   ]
  },
  {
   "cell_type": "code",
   "execution_count": 11,
   "metadata": {},
   "outputs": [
    {
     "data": {
      "text/html": [
       "<div>\n",
       "<style scoped>\n",
       "    .dataframe tbody tr th:only-of-type {\n",
       "        vertical-align: middle;\n",
       "    }\n",
       "\n",
       "    .dataframe tbody tr th {\n",
       "        vertical-align: top;\n",
       "    }\n",
       "\n",
       "    .dataframe thead th {\n",
       "        text-align: right;\n",
       "    }\n",
       "</style>\n",
       "<table border=\"1\" class=\"dataframe\">\n",
       "  <thead>\n",
       "    <tr style=\"text-align: right;\">\n",
       "      <th></th>\n",
       "      <th>main_speaker</th>\n",
       "      <th>details</th>\n",
       "    </tr>\n",
       "  </thead>\n",
       "  <tbody>\n",
       "    <tr>\n",
       "      <th>0</th>\n",
       "      <td>Alexandra Auer</td>\n",
       "      <td>The intangible effects of walls More barriers ...</td>\n",
       "    </tr>\n",
       "    <tr>\n",
       "      <th>1</th>\n",
       "      <td>Elizabeth Gilbert</td>\n",
       "      <td>It's OK to feel overwhelmed. Here's what to do...</td>\n",
       "    </tr>\n",
       "    <tr>\n",
       "      <th>2</th>\n",
       "      <td>Butterscotch</td>\n",
       "      <td>\"Accept Who I Am\" Firing off her formidable be...</td>\n",
       "    </tr>\n",
       "    <tr>\n",
       "      <th>3</th>\n",
       "      <td>Ethan Lisi</td>\n",
       "      <td>What it's really like to have autism \"Autism i...</td>\n",
       "    </tr>\n",
       "    <tr>\n",
       "      <th>4</th>\n",
       "      <td>Daniel Finkel</td>\n",
       "      <td>Can you solve the sea monster riddle? Accordin...</td>\n",
       "    </tr>\n",
       "    <tr>\n",
       "      <th>...</th>\n",
       "      <td>...</td>\n",
       "      <td>...</td>\n",
       "    </tr>\n",
       "    <tr>\n",
       "      <th>4462</th>\n",
       "      <td>Hans Rosling</td>\n",
       "      <td>The best stats you've ever seen You've never s...</td>\n",
       "    </tr>\n",
       "    <tr>\n",
       "      <th>4463</th>\n",
       "      <td>Sir Ken Robinson</td>\n",
       "      <td>Do schools kill creativity? Sir Ken Robinson m...</td>\n",
       "    </tr>\n",
       "    <tr>\n",
       "      <th>4464</th>\n",
       "      <td>Majora Carter</td>\n",
       "      <td>Greening the ghetto In an emotionally charged ...</td>\n",
       "    </tr>\n",
       "    <tr>\n",
       "      <th>4465</th>\n",
       "      <td>David Pogue</td>\n",
       "      <td>Simplicity sells New York Times columnist Davi...</td>\n",
       "    </tr>\n",
       "    <tr>\n",
       "      <th>4466</th>\n",
       "      <td>Al Gore</td>\n",
       "      <td>Averting the climate crisis With the same humo...</td>\n",
       "    </tr>\n",
       "  </tbody>\n",
       "</table>\n",
       "<p>4466 rows × 2 columns</p>\n",
       "</div>"
      ],
      "text/plain": [
       "           main_speaker                                            details\n",
       "0        Alexandra Auer  The intangible effects of walls More barriers ...\n",
       "1     Elizabeth Gilbert  It's OK to feel overwhelmed. Here's what to do...\n",
       "2          Butterscotch  \"Accept Who I Am\" Firing off her formidable be...\n",
       "3            Ethan Lisi  What it's really like to have autism \"Autism i...\n",
       "4         Daniel Finkel  Can you solve the sea monster riddle? Accordin...\n",
       "...                 ...                                                ...\n",
       "4462       Hans Rosling  The best stats you've ever seen You've never s...\n",
       "4463   Sir Ken Robinson  Do schools kill creativity? Sir Ken Robinson m...\n",
       "4464      Majora Carter  Greening the ghetto In an emotionally charged ...\n",
       "4465        David Pogue  Simplicity sells New York Times columnist Davi...\n",
       "4466            Al Gore  Averting the climate crisis With the same humo...\n",
       "\n",
       "[4466 rows x 2 columns]"
      ]
     },
     "execution_count": 11,
     "metadata": {},
     "output_type": "execute_result"
    }
   ],
   "source": [
    "df.copy()"
   ]
  },
  {
   "cell_type": "code",
   "execution_count": 13,
   "metadata": {},
   "outputs": [
    {
     "data": {
      "text/plain": [
       "True"
      ]
     },
     "execution_count": 13,
     "metadata": {},
     "output_type": "execute_result"
    }
   ],
   "source": [
    "nltk.download('stopwords')"
   ]
  },
  {
   "cell_type": "code",
   "execution_count": 14,
   "metadata": {},
   "outputs": [],
   "source": [
    "#text_processging\n",
    "def remove_stopwords(text):\n",
    "    stop_words = stopwords.words('english')\n",
    "\n",
    "    imp_words = []\n",
    "\n",
    "    for word in str(text).split():\n",
    "        word = word.lower()\n",
    "\n",
    "        if word not in stop_words:\n",
    "            imp_words.append(word)\n",
    "    \n",
    "    output = \" \".join(imp_words)\n",
    "\n",
    "    return output\n",
    "    "
   ]
  },
  {
   "cell_type": "code",
   "execution_count": 16,
   "metadata": {},
   "outputs": [
    {
     "data": {
      "text/html": [
       "<div>\n",
       "<style scoped>\n",
       "    .dataframe tbody tr th:only-of-type {\n",
       "        vertical-align: middle;\n",
       "    }\n",
       "\n",
       "    .dataframe tbody tr th {\n",
       "        vertical-align: top;\n",
       "    }\n",
       "\n",
       "    .dataframe thead th {\n",
       "        text-align: right;\n",
       "    }\n",
       "</style>\n",
       "<table border=\"1\" class=\"dataframe\">\n",
       "  <thead>\n",
       "    <tr style=\"text-align: right;\">\n",
       "      <th></th>\n",
       "      <th>main_speaker</th>\n",
       "      <th>details</th>\n",
       "    </tr>\n",
       "  </thead>\n",
       "  <tbody>\n",
       "    <tr>\n",
       "      <th>0</th>\n",
       "      <td>Alexandra Auer</td>\n",
       "      <td>intangible effects walls barriers exist end wo...</td>\n",
       "    </tr>\n",
       "    <tr>\n",
       "      <th>1</th>\n",
       "      <td>Elizabeth Gilbert</td>\n",
       "      <td>ok feel overwhelmed. here's next feeling anxio...</td>\n",
       "    </tr>\n",
       "    <tr>\n",
       "      <th>2</th>\n",
       "      <td>Butterscotch</td>\n",
       "      <td>\"accept am\" firing formidable beatboxing skill...</td>\n",
       "    </tr>\n",
       "    <tr>\n",
       "      <th>3</th>\n",
       "      <td>Ethan Lisi</td>\n",
       "      <td>really like autism \"autism disease; another wa...</td>\n",
       "    </tr>\n",
       "    <tr>\n",
       "      <th>4</th>\n",
       "      <td>Daniel Finkel</td>\n",
       "      <td>solve sea monster riddle? according legend, ev...</td>\n",
       "    </tr>\n",
       "  </tbody>\n",
       "</table>\n",
       "</div>"
      ],
      "text/plain": [
       "        main_speaker                                            details\n",
       "0     Alexandra Auer  intangible effects walls barriers exist end wo...\n",
       "1  Elizabeth Gilbert  ok feel overwhelmed. here's next feeling anxio...\n",
       "2       Butterscotch  \"accept am\" firing formidable beatboxing skill...\n",
       "3         Ethan Lisi  really like autism \"autism disease; another wa...\n",
       "4      Daniel Finkel  solve sea monster riddle? according legend, ev..."
      ]
     },
     "execution_count": 16,
     "metadata": {},
     "output_type": "execute_result"
    }
   ],
   "source": [
    "def clean_text(text):\n",
    "    return remove_stopwords(text)\n",
    "\n",
    "df['details'] = df['details'].apply(clean_text)\n",
    "\n",
    "df.head()"
   ]
  },
  {
   "cell_type": "code",
   "execution_count": 19,
   "metadata": {},
   "outputs": [
    {
     "data": {
      "text/html": [
       "<div>\n",
       "<style scoped>\n",
       "    .dataframe tbody tr th:only-of-type {\n",
       "        vertical-align: middle;\n",
       "    }\n",
       "\n",
       "    .dataframe tbody tr th {\n",
       "        vertical-align: top;\n",
       "    }\n",
       "\n",
       "    .dataframe thead th {\n",
       "        text-align: right;\n",
       "    }\n",
       "</style>\n",
       "<table border=\"1\" class=\"dataframe\">\n",
       "  <thead>\n",
       "    <tr style=\"text-align: right;\">\n",
       "      <th></th>\n",
       "      <th>main_speaker</th>\n",
       "      <th>details</th>\n",
       "    </tr>\n",
       "  </thead>\n",
       "  <tbody>\n",
       "    <tr>\n",
       "      <th>0</th>\n",
       "      <td>Alexandra Auer</td>\n",
       "      <td>intangible effects walls barriers exist end wo...</td>\n",
       "    </tr>\n",
       "    <tr>\n",
       "      <th>1</th>\n",
       "      <td>Elizabeth Gilbert</td>\n",
       "      <td>ok feel overwhelmed heres next feeling anxious...</td>\n",
       "    </tr>\n",
       "    <tr>\n",
       "      <th>2</th>\n",
       "      <td>Butterscotch</td>\n",
       "      <td>accept am firing formidable beatboxing skills ...</td>\n",
       "    </tr>\n",
       "    <tr>\n",
       "      <th>3</th>\n",
       "      <td>Ethan Lisi</td>\n",
       "      <td>really like autism autism disease another way ...</td>\n",
       "    </tr>\n",
       "    <tr>\n",
       "      <th>4</th>\n",
       "      <td>Daniel Finkel</td>\n",
       "      <td>solve sea monster riddle according legend ever...</td>\n",
       "    </tr>\n",
       "  </tbody>\n",
       "</table>\n",
       "</div>"
      ],
      "text/plain": [
       "        main_speaker                                            details\n",
       "0     Alexandra Auer  intangible effects walls barriers exist end wo...\n",
       "1  Elizabeth Gilbert  ok feel overwhelmed heres next feeling anxious...\n",
       "2       Butterscotch  accept am firing formidable beatboxing skills ...\n",
       "3         Ethan Lisi  really like autism autism disease another way ...\n",
       "4      Daniel Finkel  solve sea monster riddle according legend ever..."
      ]
     },
     "execution_count": 19,
     "metadata": {},
     "output_type": "execute_result"
    }
   ],
   "source": [
    "#removing all the punctuations\n",
    "import re\n",
    "\n",
    "def cleaning_punctuations(text):\n",
    "    return re.sub(r'[^\\w\\s]', '', text)  \n",
    "\n",
    "df['details'] = df['details'].apply(cleaning_punctuations)\n",
    "\n",
    "df.head()\n"
   ]
  },
  {
   "cell_type": "code",
   "execution_count": 26,
   "metadata": {},
   "outputs": [],
   "source": [
    "%%capture\n",
    "#building our recommender system\n",
    "#using TF-IDF vectorixer to convert text-->num\n",
    "\n",
    "%%capture\n",
    "vectorizer = TfidfVectorizer(analyzer='word')\n",
    "vectorizer.fit(df['details\"'])\n"
   ]
  },
  {
   "cell_type": "code",
   "execution_count": null,
   "metadata": {},
   "outputs": [],
   "source": [
    "#here I am using cosine similarity and pearson correlation\n",
    "\n",
    "def get_similarities(talk_content, data=df):\n",
    "\n",
    "    "
   ]
  }
 ],
 "metadata": {
  "kernelspec": {
   "display_name": "base",
   "language": "python",
   "name": "python3"
  },
  "language_info": {
   "codemirror_mode": {
    "name": "ipython",
    "version": 3
   },
   "file_extension": ".py",
   "mimetype": "text/x-python",
   "name": "python",
   "nbconvert_exporter": "python",
   "pygments_lexer": "ipython3",
   "version": "3.12.4"
  }
 },
 "nbformat": 4,
 "nbformat_minor": 2
}
